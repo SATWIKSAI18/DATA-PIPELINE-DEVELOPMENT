{
 "cells": [
  {
   "cell_type": "code",
   "execution_count": 15,
   "id": "a97e1b21-c777-43a9-a8e9-efcb3a3479ae",
   "metadata": {},
   "outputs": [],
   "source": [
    "import pandas as pd\n",
    "from sklearn.model_selection import train_test_split\n",
    "from sklearn.preprocessing import StandardScaler, LabelEncoder\n",
    "import os"
   ]
  },
  {
   "cell_type": "code",
   "execution_count": 16,
   "id": "29f22f03-8bf2-4cb1-80de-6fca176c0d22",
   "metadata": {},
   "outputs": [],
   "source": [
    "file_path = \"kc_house_data.csv\"  \n",
    "target_column = \"price\""
   ]
  },
  {
   "cell_type": "markdown",
   "id": "f2c5a212-447d-4d88-b124-b180c101547b",
   "metadata": {},
   "source": [
    "Step1:Extracting Data"
   ]
  },
  {
   "cell_type": "code",
   "execution_count": 17,
   "id": "2d2fb8a3-a7f5-4cba-9c4c-284f996a9b82",
   "metadata": {},
   "outputs": [
    {
     "name": "stdout",
     "output_type": "stream",
     "text": [
      "Data extracted successfully!\n"
     ]
    }
   ],
   "source": [
    "if not os.path.exists(file_path):\n",
    "    raise FileNotFoundError(f\"The file {file_path} does not exist.\")\n",
    "data = pd.read_csv(file_path)\n",
    "print(\"Data extracted successfully!\")"
   ]
  },
  {
   "cell_type": "code",
   "execution_count": 8,
   "id": "ebeb12a1-7eb0-4cc9-a921-a6877cce1339",
   "metadata": {},
   "outputs": [
    {
     "name": "stdout",
     "output_type": "stream",
     "text": [
      "Dataset Details:\n",
      "Shape of the dataset: (21613, 21)\n",
      "\n",
      "First 5 rows:\n",
      "            id             date     price  bedrooms  bathrooms  sqft_living  \\\n",
      "0  7129300520  20141013T000000  221900.0         3       1.00         1180   \n",
      "1  6414100192  20141209T000000  538000.0         3       2.25         2570   \n",
      "2  5631500400  20150225T000000  180000.0         2       1.00          770   \n",
      "3  2487200875  20141209T000000  604000.0         4       3.00         1960   \n",
      "4  1954400510  20150218T000000  510000.0         3       2.00         1680   \n",
      "\n",
      "   sqft_lot  floors  waterfront  view  ...  grade  sqft_above  sqft_basement  \\\n",
      "0      5650     1.0           0     0  ...      7        1180              0   \n",
      "1      7242     2.0           0     0  ...      7        2170            400   \n",
      "2     10000     1.0           0     0  ...      6         770              0   \n",
      "3      5000     1.0           0     0  ...      7        1050            910   \n",
      "4      8080     1.0           0     0  ...      8        1680              0   \n",
      "\n",
      "   yr_built  yr_renovated  zipcode      lat     long  sqft_living15  \\\n",
      "0      1955             0    98178  47.5112 -122.257           1340   \n",
      "1      1951          1991    98125  47.7210 -122.319           1690   \n",
      "2      1933             0    98028  47.7379 -122.233           2720   \n",
      "3      1965             0    98136  47.5208 -122.393           1360   \n",
      "4      1987             0    98074  47.6168 -122.045           1800   \n",
      "\n",
      "   sqft_lot15  \n",
      "0        5650  \n",
      "1        7639  \n",
      "2        8062  \n",
      "3        5000  \n",
      "4        7503  \n",
      "\n",
      "[5 rows x 21 columns]\n",
      "\n",
      "Column Info:\n",
      "<class 'pandas.core.frame.DataFrame'>\n",
      "RangeIndex: 21613 entries, 0 to 21612\n",
      "Data columns (total 21 columns):\n",
      " #   Column         Non-Null Count  Dtype  \n",
      "---  ------         --------------  -----  \n",
      " 0   id             21613 non-null  int64  \n",
      " 1   date           21613 non-null  object \n",
      " 2   price          21613 non-null  float64\n",
      " 3   bedrooms       21613 non-null  int64  \n",
      " 4   bathrooms      21613 non-null  float64\n",
      " 5   sqft_living    21613 non-null  int64  \n",
      " 6   sqft_lot       21613 non-null  int64  \n",
      " 7   floors         21613 non-null  float64\n",
      " 8   waterfront     21613 non-null  int64  \n",
      " 9   view           21613 non-null  int64  \n",
      " 10  condition      21613 non-null  int64  \n",
      " 11  grade          21613 non-null  int64  \n",
      " 12  sqft_above     21613 non-null  int64  \n",
      " 13  sqft_basement  21613 non-null  int64  \n",
      " 14  yr_built       21613 non-null  int64  \n",
      " 15  yr_renovated   21613 non-null  int64  \n",
      " 16  zipcode        21613 non-null  int64  \n",
      " 17  lat            21613 non-null  float64\n",
      " 18  long           21613 non-null  float64\n",
      " 19  sqft_living15  21613 non-null  int64  \n",
      " 20  sqft_lot15     21613 non-null  int64  \n",
      "dtypes: float64(5), int64(15), object(1)\n",
      "memory usage: 3.5+ MB\n",
      "None\n",
      "\n",
      "Summary Statistics:\n",
      "                  id             date         price      bedrooms  \\\n",
      "count   2.161300e+04            21613  2.161300e+04  21613.000000   \n",
      "unique           NaN              372           NaN           NaN   \n",
      "top              NaN  20140623T000000           NaN           NaN   \n",
      "freq             NaN              142           NaN           NaN   \n",
      "mean    4.580302e+09              NaN  5.400881e+05      3.370842   \n",
      "std     2.876566e+09              NaN  3.671272e+05      0.930062   \n",
      "min     1.000102e+06              NaN  7.500000e+04      0.000000   \n",
      "25%     2.123049e+09              NaN  3.219500e+05      3.000000   \n",
      "50%     3.904930e+09              NaN  4.500000e+05      3.000000   \n",
      "75%     7.308900e+09              NaN  6.450000e+05      4.000000   \n",
      "max     9.900000e+09              NaN  7.700000e+06     33.000000   \n",
      "\n",
      "           bathrooms   sqft_living      sqft_lot        floors    waterfront  \\\n",
      "count   21613.000000  21613.000000  2.161300e+04  21613.000000  21613.000000   \n",
      "unique           NaN           NaN           NaN           NaN           NaN   \n",
      "top              NaN           NaN           NaN           NaN           NaN   \n",
      "freq             NaN           NaN           NaN           NaN           NaN   \n",
      "mean        2.114757   2079.899736  1.510697e+04      1.494309      0.007542   \n",
      "std         0.770163    918.440897  4.142051e+04      0.539989      0.086517   \n",
      "min         0.000000    290.000000  5.200000e+02      1.000000      0.000000   \n",
      "25%         1.750000   1427.000000  5.040000e+03      1.000000      0.000000   \n",
      "50%         2.250000   1910.000000  7.618000e+03      1.500000      0.000000   \n",
      "75%         2.500000   2550.000000  1.068800e+04      2.000000      0.000000   \n",
      "max         8.000000  13540.000000  1.651359e+06      3.500000      1.000000   \n",
      "\n",
      "                view  ...         grade    sqft_above  sqft_basement  \\\n",
      "count   21613.000000  ...  21613.000000  21613.000000   21613.000000   \n",
      "unique           NaN  ...           NaN           NaN            NaN   \n",
      "top              NaN  ...           NaN           NaN            NaN   \n",
      "freq             NaN  ...           NaN           NaN            NaN   \n",
      "mean        0.234303  ...      7.656873   1788.390691     291.509045   \n",
      "std         0.766318  ...      1.175459    828.090978     442.575043   \n",
      "min         0.000000  ...      1.000000    290.000000       0.000000   \n",
      "25%         0.000000  ...      7.000000   1190.000000       0.000000   \n",
      "50%         0.000000  ...      7.000000   1560.000000       0.000000   \n",
      "75%         0.000000  ...      8.000000   2210.000000     560.000000   \n",
      "max         4.000000  ...     13.000000   9410.000000    4820.000000   \n",
      "\n",
      "            yr_built  yr_renovated       zipcode           lat          long  \\\n",
      "count   21613.000000  21613.000000  21613.000000  21613.000000  21613.000000   \n",
      "unique           NaN           NaN           NaN           NaN           NaN   \n",
      "top              NaN           NaN           NaN           NaN           NaN   \n",
      "freq             NaN           NaN           NaN           NaN           NaN   \n",
      "mean     1971.005136     84.402258  98077.939805     47.560053   -122.213896   \n",
      "std        29.373411    401.679240     53.505026      0.138564      0.140828   \n",
      "min      1900.000000      0.000000  98001.000000     47.155900   -122.519000   \n",
      "25%      1951.000000      0.000000  98033.000000     47.471000   -122.328000   \n",
      "50%      1975.000000      0.000000  98065.000000     47.571800   -122.230000   \n",
      "75%      1997.000000      0.000000  98118.000000     47.678000   -122.125000   \n",
      "max      2015.000000   2015.000000  98199.000000     47.777600   -121.315000   \n",
      "\n",
      "        sqft_living15     sqft_lot15  \n",
      "count    21613.000000   21613.000000  \n",
      "unique            NaN            NaN  \n",
      "top               NaN            NaN  \n",
      "freq              NaN            NaN  \n",
      "mean      1986.552492   12768.455652  \n",
      "std        685.391304   27304.179631  \n",
      "min        399.000000     651.000000  \n",
      "25%       1490.000000    5100.000000  \n",
      "50%       1840.000000    7620.000000  \n",
      "75%       2360.000000   10083.000000  \n",
      "max       6210.000000  871200.000000  \n",
      "\n",
      "[11 rows x 21 columns]\n"
     ]
    }
   ],
   "source": [
    "print(\"Dataset Details:\")\n",
    "print(\"Shape of the dataset:\", data.shape)\n",
    "print(\"\\nFirst 5 rows:\\n\", data.head())\n",
    "print(\"\\nColumn Info:\")\n",
    "print(data.info())\n",
    "print(\"\\nSummary Statistics:\")\n",
    "print(data.describe(include='all'))"
   ]
  },
  {
   "cell_type": "markdown",
   "id": "ee33b913-374d-4c17-8aa0-05f17c50b0a9",
   "metadata": {},
   "source": [
    "Step2: Preprocessing Data"
   ]
  },
  {
   "cell_type": "code",
   "execution_count": 9,
   "id": "b6dbfe77-d913-4961-89e2-631b6812dec7",
   "metadata": {},
   "outputs": [
    {
     "name": "stdout",
     "output_type": "stream",
     "text": [
      "Missing Values:\n",
      "No missing values!\n"
     ]
    }
   ],
   "source": [
    "# Drop unnecessary columns (e.g., ID, Date)\n",
    "if 'id' in data.columns:\n",
    "    data.drop(columns=['id'], inplace=True)\n",
    "if 'date' in data.columns:\n",
    "    data.drop(columns=['date'], inplace=True)\n",
    "\n",
    "# Check and Handle Missing Values\n",
    "print(\"Missing Values:\")\n",
    "missing = data.isnull().sum()\n",
    "print(missing[missing > 0] if missing.any() else \"No missing values!\")\n",
    "data.fillna(data.median(numeric_only=True), inplace=True)"
   ]
  },
  {
   "cell_type": "code",
   "execution_count": 10,
   "id": "025111d2-171a-407e-9984-49044ad42243",
   "metadata": {},
   "outputs": [
    {
     "name": "stdout",
     "output_type": "stream",
     "text": [
      "\n",
      "Preprocessed Dataset Details:\n",
      "Shape of the dataset after preprocessing: (21613, 19)\n",
      "\n",
      "First 5 rows after preprocessing:\n",
      "       price  bedrooms  bathrooms  sqft_living  sqft_lot  floors  waterfront  \\\n",
      "0  221900.0         3       1.00         1180      5650     1.0           0   \n",
      "1  538000.0         3       2.25         2570      7242     2.0           0   \n",
      "2  180000.0         2       1.00          770     10000     1.0           0   \n",
      "3  604000.0         4       3.00         1960      5000     1.0           0   \n",
      "4  510000.0         3       2.00         1680      8080     1.0           0   \n",
      "\n",
      "   view  condition  grade  sqft_above  sqft_basement  yr_built  yr_renovated  \\\n",
      "0     0          3      7        1180              0      1955             0   \n",
      "1     0          3      7        2170            400      1951          1991   \n",
      "2     0          3      6         770              0      1933             0   \n",
      "3     0          5      7        1050            910      1965             0   \n",
      "4     0          3      8        1680              0      1987             0   \n",
      "\n",
      "   zipcode      lat     long  sqft_living15  sqft_lot15  \n",
      "0    98178  47.5112 -122.257           1340        5650  \n",
      "1    98125  47.7210 -122.319           1690        7639  \n",
      "2    98028  47.7379 -122.233           2720        8062  \n",
      "3    98136  47.5208 -122.393           1360        5000  \n",
      "4    98074  47.6168 -122.045           1800        7503  \n"
     ]
    }
   ],
   "source": [
    "# Encode Categorical Variables\n",
    "label_encoders = {}\n",
    "for column in data.select_dtypes(include=['object']).columns:\n",
    "    le = LabelEncoder()\n",
    "    data[column] = le.fit_transform(data[column])\n",
    "    label_encoders[column] = le\n",
    "\n",
    "print(\"\\nPreprocessed Dataset Details:\")\n",
    "print(\"Shape of the dataset after preprocessing:\", data.shape)\n",
    "print(\"\\nFirst 5 rows after preprocessing:\\n\", data.head())"
   ]
  },
  {
   "cell_type": "markdown",
   "id": "c5ff1556-d1bf-4a36-bde3-08225ac8f377",
   "metadata": {},
   "source": [
    "Step3:Transform Data"
   ]
  },
  {
   "cell_type": "code",
   "execution_count": 11,
   "id": "35a10b53-5995-4d24-a6ec-dc076384b2f3",
   "metadata": {},
   "outputs": [],
   "source": [
    "# Separate features and target\n",
    "X = data.drop(columns=[target_column])\n",
    "y = data[target_column]\n",
    "\n",
    "# Split Data into Training and Testing Sets\n",
    "X_train, X_test, y_train, y_test = train_test_split(X, y, test_size=0.2, random_state=42)"
   ]
  },
  {
   "cell_type": "code",
   "execution_count": 12,
   "id": "0d79cca7-ca52-4bcb-8933-5bfa5d9191e0",
   "metadata": {},
   "outputs": [
    {
     "name": "stdout",
     "output_type": "stream",
     "text": [
      "\n",
      "Training Set Shape: (17290, 18), Testing Set Shape: (4323, 18)\n"
     ]
    }
   ],
   "source": [
    "# Normalize Numeric Features\n",
    "scaler = StandardScaler()\n",
    "X_train_scaled = scaler.fit_transform(X_train)\n",
    "X_test_scaled = scaler.transform(X_test)\n",
    "\n",
    "print(f\"\\nTraining Set Shape: {X_train_scaled.shape}, Testing Set Shape: {X_test_scaled.shape}\")"
   ]
  },
  {
   "cell_type": "markdown",
   "id": "ffe27402-7923-44cd-9c31-ee67496deb07",
   "metadata": {},
   "source": [
    "Step4:Load Data"
   ]
  },
  {
   "cell_type": "code",
   "execution_count": 13,
   "id": "0d4b76cd-9f7b-42c7-a633-c0655652d2b4",
   "metadata": {},
   "outputs": [],
   "source": [
    "output_dir = \"output\"\n",
    "os.makedirs(output_dir, exist_ok=True)\n",
    "\n",
    "pd.DataFrame(X_train_scaled).to_csv(os.path.join(output_dir, \"X_train.csv\"), index=False)\n",
    "pd.DataFrame(X_test_scaled).to_csv(os.path.join(output_dir, \"X_test.csv\"), index=False)\n",
    "pd.DataFrame(y_train).to_csv(os.path.join(output_dir, \"y_train.csv\"), index=False)\n",
    "pd.DataFrame(y_test).to_csv(os.path.join(output_dir, \"y_test.csv\"), index=False)"
   ]
  },
  {
   "cell_type": "code",
   "execution_count": 14,
   "id": "71bb6910-7a57-4af2-a50d-cd230572e548",
   "metadata": {},
   "outputs": [
    {
     "name": "stdout",
     "output_type": "stream",
     "text": [
      "\n",
      "Data successfully saved in the 'output' directory:\n",
      "- X_train.csv\n",
      "- X_test.csv\n",
      "- y_train.csv\n",
      "- y_test.csv\n"
     ]
    }
   ],
   "source": [
    "print(f\"\\nData successfully saved in the '{output_dir}' directory:\")\n",
    "print(\"- X_train.csv\")\n",
    "print(\"- X_test.csv\")\n",
    "print(\"- y_train.csv\")\n",
    "print(\"- y_test.csv\")"
   ]
  }
 ],
 "metadata": {
  "kernelspec": {
   "display_name": "Python 3 (ipykernel)",
   "language": "python",
   "name": "python3"
  },
  "language_info": {
   "codemirror_mode": {
    "name": "ipython",
    "version": 3
   },
   "file_extension": ".py",
   "mimetype": "text/x-python",
   "name": "python",
   "nbconvert_exporter": "python",
   "pygments_lexer": "ipython3",
   "version": "3.12.2"
  }
 },
 "nbformat": 4,
 "nbformat_minor": 5
}
